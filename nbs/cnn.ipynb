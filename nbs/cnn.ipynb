{
 "cells": [
  {
   "cell_type": "code",
   "execution_count": 48,
   "id": "measured-mistake",
   "metadata": {},
   "outputs": [],
   "source": [
    "from fastai.basics import *\n",
    "from fastai.vision.all import *\n",
    "from fastai.losses import *"
   ]
  },
  {
   "cell_type": "code",
   "execution_count": 2,
   "id": "wooden-spectrum",
   "metadata": {},
   "outputs": [],
   "source": [
    "ds = torch.load('peaks.pt')\n",
    "split = RandomSplitter()"
   ]
  },
  {
   "cell_type": "code",
   "execution_count": 3,
   "id": "quarterly-render",
   "metadata": {},
   "outputs": [],
   "source": [
    "train_len = int(0.8 * len(ds))\n",
    "valid_len = len(ds) - train_len"
   ]
  },
  {
   "cell_type": "code",
   "execution_count": 4,
   "id": "welsh-anger",
   "metadata": {},
   "outputs": [],
   "source": [
    "train_ds, valid_ds = torch.utils.data.dataset.random_split(ds, lengths=[train_len, valid_len])"
   ]
  },
  {
   "cell_type": "code",
   "execution_count": 5,
   "id": "primary-rachel",
   "metadata": {},
   "outputs": [
    {
     "data": {
      "text/plain": [
       "(tensor([[0., 0., 0.,  ..., 1., 1., 0.],\n",
       "         [1., 1., 1.,  ..., 0., 0., 0.],\n",
       "         [0., 0., 0.,  ..., 0., 0., 0.],\n",
       "         [0., 0., 0.,  ..., 0., 0., 1.],\n",
       "         [0., 0., 0.,  ..., 0., 0., 0.]]),\n",
       " tensor(10., dtype=torch.float64))"
      ]
     },
     "execution_count": 5,
     "metadata": {},
     "output_type": "execute_result"
    }
   ],
   "source": [
    "train_ds[0]"
   ]
  },
  {
   "cell_type": "code",
   "execution_count": 6,
   "id": "hindu-thursday",
   "metadata": {},
   "outputs": [],
   "source": [
    "train_dl = DataLoader(train_ds, bs=2048, device=torch.device('cuda:0'))\n",
    "valid_dl = DataLoader(valid_ds, bs=2048)"
   ]
  },
  {
   "cell_type": "code",
   "execution_count": 7,
   "id": "committed-inspection",
   "metadata": {},
   "outputs": [
    {
     "data": {
      "text/plain": [
       "True"
      ]
     },
     "execution_count": 7,
     "metadata": {},
     "output_type": "execute_result"
    }
   ],
   "source": [
    "torch.cuda.is_available()"
   ]
  },
  {
   "cell_type": "code",
   "execution_count": 49,
   "id": "agreed-charge",
   "metadata": {},
   "outputs": [
    {
     "data": {
      "text/plain": [
       "torch.Size([2048, 5, 601])"
      ]
     },
     "execution_count": 49,
     "metadata": {},
     "output_type": "execute_result"
    }
   ],
   "source": [
    "dls = DataLoaders(train_dl, valid_dl).cuda()\n",
    "x,y = train_dl.one_batch()\n",
    "x.shape"
   ]
  },
  {
   "cell_type": "code",
   "execution_count": 50,
   "id": "civilian-titanium",
   "metadata": {},
   "outputs": [],
   "source": [
    "def negative_binomial_layer(x):\n",
    "    n,p = torch.unbind(x, dim=1)\n",
    "    n,p = [torch.unsqueeze(t,dim=-1) for t in (n,p)]\n",
    "    n = torch.nn.functional.softplus(n)\n",
    "    p = torch.sigmoid(p)\n",
    "    x = torch.cat((n,p), axis=1)\n",
    "    return x\n",
    "\n",
    "class CNN(nn.Module):\n",
    "    def __init__(self, input_size):\n",
    "        \"\"\"\n",
    "        init convolution and activation layers\n",
    "        Args:\n",
    "        x: (Nx1x2004)\n",
    "        class: \n",
    "\n",
    "        \"\"\"\n",
    "        super(CNN, self).__init__() \n",
    "        \n",
    "        self.conv1 = torch.nn.Conv1d(input_size, 512, 2)\n",
    "        self.relu = torch.nn.ReLU()\n",
    "        self.conv2 = torch.nn.Conv1d(512, 64, 2)\n",
    "        self.pool = torch.nn.AvgPool1d(4)\n",
    "        self.fc1 = torch.nn.Linear(2368, 2368)\n",
    "        self.fc2 = torch.nn.Linear(2368, 2) # 2 becasue 2 params in distribution\n",
    "\n",
    "    def forward(self, x):\n",
    "        \"\"\"\n",
    "        forward function describes how input tensor is transformed to output tensor\n",
    "        Args:\n",
    "            \n",
    "        \"\"\"\n",
    "        x = self.conv1(x)\n",
    "        x = self.relu(x)\n",
    "        x = self.pool(x)\n",
    "        x = self.conv2(x)\n",
    "        x = self.relu(x)\n",
    "        x = self.pool(x)\n",
    "        x = torch.flatten(x, 1)\n",
    "        x = self.fc1(x)\n",
    "        x = self.fc2(x)\n",
    "        # convert to params of distribution (n and p)\n",
    "        x = negative_binomial_layer(x)\n",
    "        return x\n",
    "\n",
    "def negative_binomial_loss(pred, target):\n",
    "    n,p = torch.unbind(pred, dim=1)\n",
    "    n,p = [torch.unsqueeze(t,dim=-1) for t in (n,p)]\n",
    "    nll = (\n",
    "        torch.lgamma(n) \n",
    "        + torch.lgamma(target + 1)\n",
    "        - torch.lgamma(n + target)\n",
    "        - n * torch.log(p)\n",
    "        - target * torch.log(1 - p)\n",
    "    )    \n",
    "    return torch.mean(nll).float()"
   ]
  },
  {
   "cell_type": "code",
   "execution_count": 51,
   "id": "gorgeous-modern",
   "metadata": {},
   "outputs": [],
   "source": [
    "model = CNN(x.shape[1]).cuda()"
   ]
  },
  {
   "cell_type": "code",
   "execution_count": 52,
   "id": "animated-organizer",
   "metadata": {},
   "outputs": [
    {
     "data": {
      "text/plain": [
       "tensor(77.4919, device='cuda:0', grad_fn=<CopyBackwards>)"
      ]
     },
     "execution_count": 52,
     "metadata": {},
     "output_type": "execute_result"
    }
   ],
   "source": [
    "y_pred = model.forward(x)\n",
    "loss = negative_binomial_loss(y_pred, y.unsqueeze(dim=-1))\n",
    "#loss = torch.nn.functional.mse_loss(y_pred, y.unsqueeze(dim=-1))\n",
    "loss"
   ]
  },
  {
   "cell_type": "code",
   "execution_count": 55,
   "id": "forward-scenario",
   "metadata": {},
   "outputs": [],
   "source": [
    "learner = Learner(dls, model, loss_func=negative_binomial_loss)"
   ]
  },
  {
   "cell_type": "code",
   "execution_count": 54,
   "id": "amazing-latitude",
   "metadata": {},
   "outputs": [
    {
     "data": {
      "text/html": [],
      "text/plain": [
       "<IPython.core.display.HTML object>"
      ]
     },
     "metadata": {},
     "output_type": "display_data"
    },
    {
     "data": {
      "text/plain": [
       "SuggestedLRs(lr_min=0.00010000000474974513, lr_steep=0.00010964782268274575)"
      ]
     },
     "execution_count": 54,
     "metadata": {},
     "output_type": "execute_result"
    },
    {
     "data": {
      "image/png": "[encoded data removed]",
      "text/plain": [
       "<Figure size 432x288 with 1 Axes>"
      ]
     },
     "metadata": {
      "needs_background": "light"
     },
     "output_type": "display_data"
    }
   ],
   "source": [
    "learner.lr_find()"
   ]
  },
  {
   "cell_type": "code",
   "execution_count": 56,
   "id": "extreme-logan",
   "metadata": {},
   "outputs": [
    {
     "data": {
      "text/html": [
       "<table border=\"1\" class=\"dataframe\">\n",
       "  <thead>\n",
       "    <tr style=\"text-align: left;\">\n",
       "      <th>epoch</th>\n",
       "      <th>train_loss</th>\n",
       "      <th>valid_loss</th>\n",
       "      <th>time</th>\n",
       "    </tr>\n",
       "  </thead>\n",
       "  <tbody>\n",
       "    <tr>\n",
       "      <td>0</td>\n",
       "      <td>15.275882</td>\n",
       "      <td>5.658259</td>\n",
       "      <td>00:24</td>\n",
       "    </tr>\n",
       "    <tr>\n",
       "      <td>1</td>\n",
       "      <td>5.928124</td>\n",
       "      <td>5.539675</td>\n",
       "      <td>00:24</td>\n",
       "    </tr>\n",
       "    <tr>\n",
       "      <td>2</td>\n",
       "      <td>5.552904</td>\n",
       "      <td>5.539643</td>\n",
       "      <td>00:25</td>\n",
       "    </tr>\n",
       "    <tr>\n",
       "      <td>3</td>\n",
       "      <td>5.537381</td>\n",
       "      <td>5.539032</td>\n",
       "      <td>00:24</td>\n",
       "    </tr>\n",
       "    <tr>\n",
       "      <td>4</td>\n",
       "      <td>5.537595</td>\n",
       "      <td>5.538644</td>\n",
       "      <td>00:25</td>\n",
       "    </tr>\n",
       "    <tr>\n",
       "      <td>5</td>\n",
       "      <td>5.539163</td>\n",
       "      <td>5.539038</td>\n",
       "      <td>00:25</td>\n",
       "    </tr>\n",
       "    <tr>\n",
       "      <td>6</td>\n",
       "      <td>5.541195</td>\n",
       "      <td>5.547972</td>\n",
       "      <td>00:25</td>\n",
       "    </tr>\n",
       "    <tr>\n",
       "      <td>7</td>\n",
       "      <td>5.541561</td>\n",
       "      <td>5.545842</td>\n",
       "      <td>00:25</td>\n",
       "    </tr>\n",
       "    <tr>\n",
       "      <td>8</td>\n",
       "      <td>5.541082</td>\n",
       "      <td>5.541814</td>\n",
       "      <td>00:25</td>\n",
       "    </tr>\n",
       "    <tr>\n",
       "      <td>9</td>\n",
       "      <td>5.540207</td>\n",
       "      <td>5.539049</td>\n",
       "      <td>00:25</td>\n",
       "    </tr>\n",
       "    <tr>\n",
       "      <td>10</td>\n",
       "      <td>5.539320</td>\n",
       "      <td>5.538335</td>\n",
       "      <td>00:25</td>\n",
       "    </tr>\n",
       "    <tr>\n",
       "      <td>11</td>\n",
       "      <td>5.539028</td>\n",
       "      <td>5.539302</td>\n",
       "      <td>00:25</td>\n",
       "    </tr>\n",
       "    <tr>\n",
       "      <td>12</td>\n",
       "      <td>5.538874</td>\n",
       "      <td>5.539302</td>\n",
       "      <td>00:25</td>\n",
       "    </tr>\n",
       "    <tr>\n",
       "      <td>13</td>\n",
       "      <td>5.539125</td>\n",
       "      <td>5.540417</td>\n",
       "      <td>00:25</td>\n",
       "    </tr>\n",
       "    <tr>\n",
       "      <td>14</td>\n",
       "      <td>5.538826</td>\n",
       "      <td>5.544218</td>\n",
       "      <td>00:25</td>\n",
       "    </tr>\n",
       "    <tr>\n",
       "      <td>15</td>\n",
       "      <td>5.538385</td>\n",
       "      <td>5.545161</td>\n",
       "      <td>00:25</td>\n",
       "    </tr>\n",
       "    <tr>\n",
       "      <td>16</td>\n",
       "      <td>5.537586</td>\n",
       "      <td>5.539164</td>\n",
       "      <td>00:25</td>\n",
       "    </tr>\n",
       "    <tr>\n",
       "      <td>17</td>\n",
       "      <td>5.537147</td>\n",
       "      <td>5.538669</td>\n",
       "      <td>00:25</td>\n",
       "    </tr>\n",
       "    <tr>\n",
       "      <td>18</td>\n",
       "      <td>5.536459</td>\n",
       "      <td>5.538697</td>\n",
       "      <td>00:25</td>\n",
       "    </tr>\n",
       "    <tr>\n",
       "      <td>19</td>\n",
       "      <td>5.536406</td>\n",
       "      <td>5.538841</td>\n",
       "      <td>00:25</td>\n",
       "    </tr>\n",
       "    <tr>\n",
       "      <td>20</td>\n",
       "      <td>5.536784</td>\n",
       "      <td>5.539693</td>\n",
       "      <td>00:25</td>\n",
       "    </tr>\n",
       "    <tr>\n",
       "      <td>21</td>\n",
       "      <td>5.535967</td>\n",
       "      <td>5.539460</td>\n",
       "      <td>00:25</td>\n",
       "    </tr>\n",
       "    <tr>\n",
       "      <td>22</td>\n",
       "      <td>5.535662</td>\n",
       "      <td>5.538544</td>\n",
       "      <td>00:25</td>\n",
       "    </tr>\n",
       "    <tr>\n",
       "      <td>23</td>\n",
       "      <td>5.535511</td>\n",
       "      <td>5.538153</td>\n",
       "      <td>00:25</td>\n",
       "    </tr>\n",
       "    <tr>\n",
       "      <td>24</td>\n",
       "      <td>5.535439</td>\n",
       "      <td>5.538140</td>\n",
       "      <td>00:25</td>\n",
       "    </tr>\n",
       "  </tbody>\n",
       "</table>"
      ],
      "text/plain": [
       "<IPython.core.display.HTML object>"
      ]
     },
     "metadata": {},
     "output_type": "display_data"
    }
   ],
   "source": [
    "learner.fit_one_cycle(25, lr_max=1e-4)"
   ]
  },
  {
   "cell_type": "code",
   "execution_count": 43,
   "id": "experienced-kansas",
   "metadata": {},
   "outputs": [
    {
     "data": {
      "text/html": [],
      "text/plain": [
       "<IPython.core.display.HTML object>"
      ]
     },
     "metadata": {},
     "output_type": "display_data"
    }
   ],
   "source": [
    "from scipy.stats import nbinom\n",
    "\n",
    "pred_params, y_true = learner.get_preds()\n",
    "n,p = pred_params[:,0], pred_params[:,1]"
   ]
  },
  {
   "cell_type": "code",
   "execution_count": 44,
   "id": "micro-needle",
   "metadata": {},
   "outputs": [
    {
     "data": {
      "text/plain": [
       "(array([3., 3., 3., ..., 3., 3., 3.]),\n",
       " array([257., 259., 258., ..., 257., 257., 257.]),\n",
       " array([54., 55., 55., ..., 54., 55., 54.]))"
      ]
     },
     "execution_count": 44,
     "metadata": {},
     "output_type": "execute_result"
    }
   ],
   "source": [
    "max_count = ds.tensors[1].max()\n",
    "nbinom.pmf(max_count, n, p)\n",
    "y_pred = nbinom.median(n,p)\n",
    "lower, upper = nbinom.interval(0.8, n, p)\n",
    "lower, upper, y_pred"
   ]
  },
  {
   "cell_type": "code",
   "execution_count": 45,
   "id": "specialized-communist",
   "metadata": {},
   "outputs": [
    {
     "data": {
      "text/plain": [
       "<AxesSubplot:>"
      ]
     },
     "execution_count": 45,
     "metadata": {},
     "output_type": "execute_result"
    },
    {
     "data": {
      "image/png": "[encoded data removed]",
      "text/plain": [
       "<Figure size 432x288 with 1 Axes>"
      ]
     },
     "metadata": {
      "needs_background": "light"
     },
     "output_type": "display_data"
    }
   ],
   "source": [
    "pd.Series(y_pred).hist()"
   ]
  },
  {
   "cell_type": "code",
   "execution_count": null,
   "id": "anticipated-transition",
   "metadata": {},
   "outputs": [],
   "source": []
  },
  {
   "cell_type": "code",
   "execution_count": null,
   "id": "judicial-activation",
   "metadata": {},
   "outputs": [],
   "source": []
  }
 ],
 "metadata": {
  "kernelspec": {
   "display_name": "Python 3",
   "language": "python",
   "name": "python3"
  },
  "language_info": {
   "codemirror_mode": {
    "name": "ipython",
    "version": 3
   },
   "file_extension": ".py",
   "mimetype": "text/x-python",
   "name": "python",
   "nbconvert_exporter": "python",
   "pygments_lexer": "ipython3",
   "version": "3.8.8"
  },
  "toc": {
   "base_numbering": 1,
   "nav_menu": {},
   "number_sections": true,
   "sideBar": true,
   "skip_h1_title": false,
   "title_cell": "Table of Contents",
   "title_sidebar": "Contents",
   "toc_cell": false,
   "toc_position": {},
   "toc_section_display": true,
   "toc_window_display": false
  }
 },
 "nbformat": 4,
 "nbformat_minor": 5
}
