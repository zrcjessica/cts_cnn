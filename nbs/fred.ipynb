{
 "cells": [
  {
   "cell_type": "code",
   "execution_count": 2,
   "id": "unlike-thesaurus",
   "metadata": {},
   "outputs": [],
   "source": [
    "from fastai.basics import *\n",
    "from fastai.text.all import *\n",
    "from torch.utils.data import Dataset, TensorDataset\n",
    "from Bio import SeqIO\n",
    "from tqdm.notebook import tqdm"
   ]
  },
  {
   "cell_type": "code",
   "execution_count": null,
   "id": "convinced-bathroom",
   "metadata": {},
   "outputs": [],
   "source": [
    "class PeakCountDataset(Dataset):\n",
    "    def __init__(self, count_file, genome_file):\n",
    "        genes = SeqIO.to_dict(SeqIO.parse(genome_file,'fasta'))\n",
    "        npzf = np.load(count_file)\n",
    "        peaks, counts = npzf['peaks'], npzf['values'].flatten()\n",
    "        self.chars = ['A','T','C','G','N']\n",
    "        self.int2char = dict(enumerate(self.chars))\n",
    "        self.char2int = {ch: ii for ii, ch in self.int2char.items()}\n",
    "        \n",
    "        def pull_seq(peak):\n",
    "            seq_idx = peak.decode()\n",
    "            gene, start, end = seq_idx.split('-')\n",
    "            start, end = int(start), int(end)\n",
    "            seq = genes['chr'+gene][start:end]\n",
    "            decoded = str(seq.seq).upper()\n",
    "            encoded = np.array([self.char2int[ch] for ch in decoded])\n",
    "            one_hot = torch.nn.functional.one_hot(torch.tensor(encoded), len(self.chars))\n",
    "            return gene, seq, one_hot\n",
    "                   \n",
    "        self.chromo, self.seqs, self.one_hot = zip(*[pull_seq(x) for x in tqdm(peaks)])\n",
    "        self.counts = counts\n",
    "        self.genes = genes\n",
    "        self.one_hot = torch.stack(self.one_hot)\n",
    "        \n",
    "    def __getitem__(self, index):\n",
    "        x = self.one_hot[index]\n",
    "        y = self.counts[index]\n",
    "        \n",
    "        return x, y\n",
    "    \n",
    "    def __len__(self):\n",
    "        return len(self.counts)"
   ]
  },
  {
   "cell_type": "code",
   "execution_count": null,
   "id": "eight-sellers",
   "metadata": {},
   "outputs": [],
   "source": [
    "ds = PeakCountDataset('data/new_pseudobulk/300bp_slop_counts/Astrocytes.npz', 'data/rn6.fa')"
   ]
  },
  {
   "cell_type": "code",
   "execution_count": 3,
   "id": "thorough-ecuador",
   "metadata": {},
   "outputs": [],
   "source": [
    "npzf = np.load('data/new_pseudobulk/300bp_slop_counts/Astrocytes.npz')\n",
    "peaks, counts = npzf['peaks'], torch.tensor(npzf['values'].flatten())\n",
    "genes = SeqIO.to_dict(SeqIO.parse('data/rn6.fa','fasta'))"
   ]
  },
  {
   "cell_type": "code",
   "execution_count": 20,
   "id": "caroline-liquid",
   "metadata": {},
   "outputs": [
    {
     "data": {
      "application/vnd.jupyter.widget-view+json": {
       "model_id": "d688b7b214624b29ac4cd0a6af6b479f",
       "version_major": 2,
       "version_minor": 0
      },
      "text/plain": [
       "  0%|          | 0/411969 [00:00<?, ?it/s]"
      ]
     },
     "metadata": {},
     "output_type": "display_data"
    }
   ],
   "source": [
    "nucleotides = ['A','T','C','G','N']\n",
    "int2char = dict(enumerate(nucleotides))\n",
    "char2int = {ch: ii for ii, ch in int2char.items()}\n",
    "target_len = 601\n",
    "\n",
    "encoded = []\n",
    "keep_counts = []\n",
    "for i, peak in tqdm(list(enumerate(peaks))):\n",
    "    c, start, end = peak.decode().split('-')\n",
    "    start, end = int(start), int(end)\n",
    "    if (end-start) == target_len:\n",
    "        seq = genes['chr'+c][start:end]\n",
    "        encoded.append(np.array([char2int[ch] for ch in str(seq.seq).upper()]))\n",
    "        keep_counts.append(counts[i])\n",
    "peak_seqs = torch.nn.functional.one_hot(torch.tensor(np.stack(encoded, axis=0)), len(nucleotides))\n",
    "keep_counts = torch.tensor(keep_counts)"
   ]
  },
  {
   "cell_type": "code",
   "execution_count": 24,
   "id": "theoretical-nigeria",
   "metadata": {},
   "outputs": [
    {
     "data": {
      "text/plain": [
       "torch.Size([403624, 5, 601])"
      ]
     },
     "execution_count": 24,
     "metadata": {},
     "output_type": "execute_result"
    }
   ],
   "source": [
    "peak_seqs.permute(0,2,1).shape"
   ]
  },
  {
   "cell_type": "code",
   "execution_count": 25,
   "id": "european-costs",
   "metadata": {},
   "outputs": [],
   "source": [
    "ds = TensorDataset(peak_seqs.permute(0,2,1).float(), keep_counts)"
   ]
  },
  {
   "cell_type": "code",
   "execution_count": 26,
   "id": "sticky-pharmacology",
   "metadata": {},
   "outputs": [],
   "source": [
    "torch.save(ds, 'peaks.pt')"
   ]
  },
  {
   "cell_type": "code",
   "execution_count": null,
   "id": "defined-kansas",
   "metadata": {},
   "outputs": [],
   "source": [
    "ds = torch.load('peaks.pt')"
   ]
  },
  {
   "cell_type": "code",
   "execution_count": null,
   "id": "unsigned-conclusion",
   "metadata": {},
   "outputs": [],
   "source": [
    "dl = DataLoader(ds, bs=16)"
   ]
  },
  {
   "cell_type": "code",
   "execution_count": null,
   "id": "nervous-insight",
   "metadata": {},
   "outputs": [],
   "source": [
    "x, y = dl.one_batch()\n",
    "x.shape, y.shape"
   ]
  },
  {
   "cell_type": "code",
   "execution_count": null,
   "id": "apart-contract",
   "metadata": {},
   "outputs": [],
   "source": [
    "str(seq.seq)"
   ]
  },
  {
   "cell_type": "code",
   "execution_count": null,
   "id": "clear-dallas",
   "metadata": {},
   "outputs": [],
   "source": [
    "sp.encode(str(seq.seq), out_type='str')"
   ]
  },
  {
   "cell_type": "code",
   "execution_count": null,
   "id": "relevant-consciousness",
   "metadata": {},
   "outputs": [],
   "source": [
    "\n",
    "\n",
    "def get_len(x):\n",
    "    c, start, end = x.decode().split('-')\n",
    "    start, end = int(start), int(end)\n",
    "    if ((end-start) > 1000):\n",
    "        seq = genes['chr'+c][start:end]\n",
    "        print(seq)\n",
    "    return end-start\n",
    "\n",
    "s = pd.Series([get_len(x) for x in peaks])"
   ]
  },
  {
   "cell_type": "code",
   "execution_count": null,
   "id": "induced-environment",
   "metadata": {},
   "outputs": [],
   "source": [
    "s.hist()"
   ]
  },
  {
   "cell_type": "code",
   "execution_count": null,
   "id": "union-smell",
   "metadata": {},
   "outputs": [],
   "source": [
    "import sentencepiece as spm"
   ]
  },
  {
   "cell_type": "code",
   "execution_count": null,
   "id": "naked-action",
   "metadata": {},
   "outputs": [],
   "source": [
    "with open('rn6_out.txt','w') as rn6_file:\n",
    "    for k in tqdm(ds.genes.keys()):\n",
    "        rn6_file.write('%s\\n' % str(ds.genes[k].seq).upper())"
   ]
  },
  {
   "cell_type": "code",
   "execution_count": null,
   "id": "fifth-proxy",
   "metadata": {},
   "outputs": [],
   "source": [
    "spm.SentencePieceTrainer.train(input='rn6_out.txt', model_prefix='m', vocab_size=1000 )"
   ]
  },
  {
   "cell_type": "code",
   "execution_count": null,
   "id": "completed-citizenship",
   "metadata": {},
   "outputs": [],
   "source": [
    "sp = spm.SentencePieceProcessor(model_file='m.model')"
   ]
  },
  {
   "cell_type": "code",
   "execution_count": null,
   "id": "advised-hawaii",
   "metadata": {},
   "outputs": [],
   "source": [
    "peaks[0]"
   ]
  },
  {
   "cell_type": "code",
   "execution_count": null,
   "id": "younger-local",
   "metadata": {},
   "outputs": [],
   "source": [
    "encoded"
   ]
  },
  {
   "cell_type": "code",
   "execution_count": null,
   "id": "transparent-chest",
   "metadata": {},
   "outputs": [],
   "source": [
    "sp.encode?"
   ]
  },
  {
   "cell_type": "code",
   "execution_count": null,
   "id": "universal-dealer",
   "metadata": {},
   "outputs": [],
   "source": [
    "ds[0][0]"
   ]
  },
  {
   "cell_type": "code",
   "execution_count": null,
   "id": "premier-daisy",
   "metadata": {},
   "outputs": [],
   "source": []
  }
 ],
 "metadata": {
  "kernelspec": {
   "display_name": "Python 3",
   "language": "python",
   "name": "python3"
  },
  "language_info": {
   "codemirror_mode": {
    "name": "ipython",
    "version": 3
   },
   "file_extension": ".py",
   "mimetype": "text/x-python",
   "name": "python",
   "nbconvert_exporter": "python",
   "pygments_lexer": "ipython3",
   "version": "3.8.8"
  },
  "toc": {
   "base_numbering": 1,
   "nav_menu": {},
   "number_sections": true,
   "sideBar": true,
   "skip_h1_title": false,
   "title_cell": "Table of Contents",
   "title_sidebar": "Contents",
   "toc_cell": false,
   "toc_position": {},
   "toc_section_display": true,
   "toc_window_display": false
  }
 },
 "nbformat": 4,
 "nbformat_minor": 5
}
